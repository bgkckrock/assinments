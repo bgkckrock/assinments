{
 "cells": [
  {
   "cell_type": "markdown",
   "id": "0e99a00b",
   "metadata": {},
   "source": [
    "# Data Science Final Project"
   ]
  },
  {
   "cell_type": "markdown",
   "id": "17a1e612",
   "metadata": {},
   "source": [
    "## Introduction\n",
    "This notebook contains exercises demonstrating various aspects of data science using markdown and code cells."
   ]
  },
  {
   "cell_type": "markdown",
   "id": "86936c8b",
   "metadata": {},
   "source": [
    "## Data Science Languages\n",
    "Some popular languages for data science include:\n",
    "- Python\n",
    "- R\n",
    "- Julia\n",
    "- SQL"
   ]
  },
  {
   "cell_type": "markdown",
   "id": "4813efbb",
   "metadata": {},
   "source": [
    "## Data Science Libraries\n",
    "Commonly used data science libraries include:\n",
    "- Pandas\n",
    "- NumPy\n",
    "- Matplotlib\n",
    "- Scikit-learn\n",
    "- TensorFlow"
   ]
  },
  {
   "cell_type": "markdown",
   "id": "0d43460f",
   "metadata": {},
   "source": [
    "## Data Science Tools\n",
    "| Tool         | Description                                    |\n",
    "|--------------|------------------------------------------------|\n",
    "| Jupyter      | Interactive computing environment              |\n",
    "| RStudio      | Integrated development environment for R       |\n",
    "| Apache Spark | Cluster-computing framework                    |"
   ]
  },
  {
   "cell_type": "markdown",
   "id": "c4b4180f",
   "metadata": {},
   "source": [
    "## Arithmetic Expression Examples\n",
    "In this section, we will see examples of arithmetic expressions."
   ]
  },
  {
   "cell_type": "code",
   "execution_count": null,
   "id": "48e6f89b",
   "metadata": {},
   "outputs": [],
   "source": [
    "# Multiply and add numbers\n",
    "a = 5\n",
    "b = 4\n",
    "product = a * b\n",
    "addition = a + b\n",
    "product, addition"
   ]
  },
  {
   "cell_type": "code",
   "execution_count": null,
   "id": "7dc6873a",
   "metadata": {},
   "outputs": [],
   "source": [
    "# Convert minutes to hours\n",
    "minutes = 120\n",
    "hours = minutes / 60\n",
    "hours"
   ]
  },
  {
   "cell_type": "markdown",
   "id": "4bd20771",
   "metadata": {},
   "source": [
    "## Objectives\n",
    "The objectives of this notebook are:\n",
    "- Demonstrate the use of markdown cells.\n",
    "- Showcase examples of data science languages and libraries.\n",
    "- Provide examples of basic arithmetic operations."
   ]
  },
  {
   "cell_type": "markdown",
   "id": "ea1d2c23",
   "metadata": {},
   "source": [
    "## Author\n",
    "John Doe"
   ]
  }
 ],
 "metadata": {},
 "nbformat": 4,
 "nbformat_minor": 5
}
